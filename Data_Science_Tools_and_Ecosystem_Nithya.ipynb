{
  "nbformat": 4,
  "nbformat_minor": 0,
  "metadata": {
    "colab": {
      "provenance": []
    },
    "kernelspec": {
      "name": "python3",
      "display_name": "Python 3"
    },
    "language_info": {
      "name": "python"
    }
  },
  "cells": [
    {
      "cell_type": "markdown",
      "source": [
        "# **Data Science Tools and Ecosystem**"
      ],
      "metadata": {
        "id": "tX0cxNeSXg4j"
      }
    },
    {
      "cell_type": "markdown",
      "source": [
        "## **Introduction**\n",
        "In this notebook, Data Science Tools and Ecosystem are summarized. The key components of data science, such as programming languages, libraries, and tools, are highlighted to provide a comprehensive understanding of the data science landscape."
      ],
      "metadata": {
        "id": "nEuOSrE5Xkdk"
      }
    },
    {
      "cell_type": "markdown",
      "source": [
        "## **Data Science Languages**\n",
        "Data scientists use a variety of programming languages to analyze and visualize data. Some of the most commonly used data science languages are:\n",
        "\n",
        "- Python\n",
        "- R\n",
        "- SQL\n",
        "- Julia\n",
        "- Scala"
      ],
      "metadata": {
        "id": "qxkfB2HhXqDp"
      }
    },
    {
      "cell_type": "markdown",
      "source": [
        "## **Data Science Libraries**\n",
        "Data science libraries offer pre-built functions and modules that simplify data analysis, machine learning, and visualization tasks. Popular libraries include:\n",
        "\n",
        "- **Python Libraries:** NumPy, Pandas, Matplotlib, Seaborn, Scikit-learn, TensorFlow, Keras, PyTorch\n",
        "- **R Libraries:** ggplot2, dplyr, tidyr, caret, shiny\n",
        "- **Other Libraries:** Apache Mahout, H2O.ai"
      ],
      "metadata": {
        "id": "sxTN8Iv3XuNh"
      }
    },
    {
      "cell_type": "markdown",
      "source": [
        "## **Data Science Tools**\n",
        "The table below lists some of the most commonly used tools in the Data Science ecosystem:\n",
        "\n",
        "| **Tool**         | **Description**                |\n",
        "|-----------------|----------------------------------|\n",
        "| Jupyter Notebook | Interactive coding environment  |\n",
        "| RStudio         | IDE for R programming           |\n",
        "| Apache Hadoop   | Distributed storage and processing |\n",
        "| TensorFlow      | Open-source machine learning platform |\n"
      ],
      "metadata": {
        "id": "k8k2SusxXy2V"
      }
    },
    {
      "cell_type": "markdown",
      "source": [
        "## **Arithmetic Expression Examples**"
      ],
      "metadata": {
        "id": "S6TUBeGlX-Av"
      }
    },
    {
      "cell_type": "markdown",
      "source": [
        "Arithmetic expressions are used to perform mathematical operations. Examples of basic operations include addition, subtraction, multiplication, and division.\n",
        "\n",
        "Examples:\n",
        "- Addition: `1 + 4 = 5`\n",
        "- Multiplication: `2 * 5 = 10`\n",
        "- Combined Operation: `(2 * 3) + 5 = 11`"
      ],
      "metadata": {
        "id": "i75R5mMneIfm"
      }
    },
    {
      "cell_type": "code",
      "source": [
        "# This is a simple arithmetic expression to, add, multiply, multiply then add numbers.\n",
        "\n",
        "Addition = (2 + 3)\n",
        "Multiplication = (4 * 5)\n",
        "Combined_Operation = (3 * 4) + 5\n",
        "\n",
        "print(\"Addition:\", Addition)\n",
        "print(\"Multiplication:\", Multiplication)\n",
        "print(\"Combined Operation:\", Combined_Operation)\n"
      ],
      "metadata": {
        "colab": {
          "base_uri": "https://localhost:8080/"
        },
        "id": "lFeDbGv0X8Q6",
        "outputId": "ad4b3d19-666e-4387-f155-f3b3ca19159b"
      },
      "execution_count": 4,
      "outputs": [
        {
          "output_type": "stream",
          "name": "stdout",
          "text": [
            "Addition: 5\n",
            "Multiplication: 20\n",
            "Combined Operation: 17\n"
          ]
        }
      ]
    },
    {
      "cell_type": "markdown",
      "source": [
        "## **Convert Minutes to Hours**"
      ],
      "metadata": {
        "id": "iMA5LEiiY7H8"
      }
    },
    {
      "cell_type": "code",
      "source": [
        "# This will convert 200 minutes to hours by dividing by 60.\n",
        "minutes = 200\n",
        "hours = minutes / 60\n",
        "print(\"200 minutes is equal to\", hours, \"hours\")"
      ],
      "metadata": {
        "colab": {
          "base_uri": "https://localhost:8080/"
        },
        "id": "iWQzWxsFZELy",
        "outputId": "5bea66a1-935f-4463-eb58-ffc4f5a5fc59"
      },
      "execution_count": 5,
      "outputs": [
        {
          "output_type": "stream",
          "name": "stdout",
          "text": [
            "200 minutes is equal to 3.3333333333333335 hours\n"
          ]
        }
      ]
    },
    {
      "cell_type": "markdown",
      "source": [
        "## **Objectives**\n",
        "By the end of this notebook, you will be able to:\n",
        "\n",
        "- Understand the key components of the data science ecosystem.\n",
        "- Identify the most commonly used programming languages for data science.\n",
        "- Recognize essential libraries and tools used in data analysis and machine learning.\n",
        "- Write and run basic arithmetic expressions in Python.\n",
        "- Convert time units from minutes to hours using simple Python code."
      ],
      "metadata": {
        "id": "21jIZ8McZKu9"
      }
    },
    {
      "cell_type": "markdown",
      "source": [
        "## **Author**\n",
        "**Nithya Balaji**"
      ],
      "metadata": {
        "id": "IIM_nw81ZS5Z"
      }
    }
  ]
}